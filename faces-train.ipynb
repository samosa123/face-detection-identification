{
 "cells": [
  {
   "cell_type": "code",
   "execution_count": 1,
   "metadata": {},
   "outputs": [],
   "source": [
    "import cv2\n",
    "import os\n",
    "from PIL import Image\n",
    "import numpy as np\n",
    "import pickle"
   ]
  },
  {
   "cell_type": "code",
   "execution_count": 2,
   "metadata": {},
   "outputs": [],
   "source": [
    "BASE_DIR = os.path.dirname('C:\\\\Users\\\\Asus\\\\Desktop\\\\face detection\\\\src\\\\images')\n",
    "image_dir = os.path.join(BASE_DIR, \"images\")\n",
    "\n",
    "face_cascade = cv2.CascadeClassifier('C:\\\\Users\\Asus\\\\Desktop\\\\face detection\\\\haarcascade_frontalface_default.xml')\n",
    "recognizer = cv2.face.LBPHFaceRecognizer_create()\n",
    "\n",
    "current_id = 0\n",
    "label_ids = {}\n",
    "y_labels = []\n",
    "x_train = []"
   ]
  },
  {
   "cell_type": "code",
   "execution_count": 3,
   "metadata": {},
   "outputs": [
    {
     "name": "stdout",
     "output_type": "stream",
     "text": [
      "sachitha C:\\Users\\Asus\\Desktop\\face detection\\src\\images\\sachitha\\1.jpeg\n",
      "sachitha C:\\Users\\Asus\\Desktop\\face detection\\src\\images\\sachitha\\10.jpeg\n",
      "sachitha C:\\Users\\Asus\\Desktop\\face detection\\src\\images\\sachitha\\11.jpeg\n",
      "sachitha C:\\Users\\Asus\\Desktop\\face detection\\src\\images\\sachitha\\12.jpeg\n",
      "sachitha C:\\Users\\Asus\\Desktop\\face detection\\src\\images\\sachitha\\13.jpeg\n",
      "sachitha C:\\Users\\Asus\\Desktop\\face detection\\src\\images\\sachitha\\14.jpeg\n",
      "sachitha C:\\Users\\Asus\\Desktop\\face detection\\src\\images\\sachitha\\15.jpeg\n",
      "sachitha C:\\Users\\Asus\\Desktop\\face detection\\src\\images\\sachitha\\2.jpeg\n",
      "sachitha C:\\Users\\Asus\\Desktop\\face detection\\src\\images\\sachitha\\3.jpeg\n",
      "sachitha C:\\Users\\Asus\\Desktop\\face detection\\src\\images\\sachitha\\4.jpeg\n",
      "sachitha C:\\Users\\Asus\\Desktop\\face detection\\src\\images\\sachitha\\5.jpeg\n",
      "sachitha C:\\Users\\Asus\\Desktop\\face detection\\src\\images\\sachitha\\6.jpeg\n",
      "sachitha C:\\Users\\Asus\\Desktop\\face detection\\src\\images\\sachitha\\7.jpeg\n",
      "sachitha C:\\Users\\Asus\\Desktop\\face detection\\src\\images\\sachitha\\8.jpeg\n",
      "sachitha C:\\Users\\Asus\\Desktop\\face detection\\src\\images\\sachitha\\9.jpeg\n",
      "samudaya C:\\Users\\Asus\\Desktop\\face detection\\src\\images\\samudaya\\1.jpg\n",
      "samudaya C:\\Users\\Asus\\Desktop\\face detection\\src\\images\\samudaya\\10.jpg\n",
      "samudaya C:\\Users\\Asus\\Desktop\\face detection\\src\\images\\samudaya\\11.jpg\n",
      "samudaya C:\\Users\\Asus\\Desktop\\face detection\\src\\images\\samudaya\\12.jpg\n",
      "samudaya C:\\Users\\Asus\\Desktop\\face detection\\src\\images\\samudaya\\13.jpg\n",
      "samudaya C:\\Users\\Asus\\Desktop\\face detection\\src\\images\\samudaya\\14.jpg\n",
      "samudaya C:\\Users\\Asus\\Desktop\\face detection\\src\\images\\samudaya\\15.jpg\n",
      "samudaya C:\\Users\\Asus\\Desktop\\face detection\\src\\images\\samudaya\\2.jpg\n",
      "samudaya C:\\Users\\Asus\\Desktop\\face detection\\src\\images\\samudaya\\3.jpg\n",
      "samudaya C:\\Users\\Asus\\Desktop\\face detection\\src\\images\\samudaya\\4.jpg\n",
      "samudaya C:\\Users\\Asus\\Desktop\\face detection\\src\\images\\samudaya\\5.jpg\n",
      "samudaya C:\\Users\\Asus\\Desktop\\face detection\\src\\images\\samudaya\\6.jpg\n",
      "samudaya C:\\Users\\Asus\\Desktop\\face detection\\src\\images\\samudaya\\7.jpg\n",
      "samudaya C:\\Users\\Asus\\Desktop\\face detection\\src\\images\\samudaya\\8.jpg\n",
      "samudaya C:\\Users\\Asus\\Desktop\\face detection\\src\\images\\samudaya\\9.jpg\n",
      "shehan C:\\Users\\Asus\\Desktop\\face detection\\src\\images\\shehan\\1.jpeg\n",
      "shehan C:\\Users\\Asus\\Desktop\\face detection\\src\\images\\shehan\\10.jpeg\n",
      "shehan C:\\Users\\Asus\\Desktop\\face detection\\src\\images\\shehan\\11.jpeg\n",
      "shehan C:\\Users\\Asus\\Desktop\\face detection\\src\\images\\shehan\\12.jpeg\n",
      "shehan C:\\Users\\Asus\\Desktop\\face detection\\src\\images\\shehan\\13.jpeg\n",
      "shehan C:\\Users\\Asus\\Desktop\\face detection\\src\\images\\shehan\\14.jpeg\n",
      "shehan C:\\Users\\Asus\\Desktop\\face detection\\src\\images\\shehan\\15.jpeg\n",
      "shehan C:\\Users\\Asus\\Desktop\\face detection\\src\\images\\shehan\\2.jpeg\n",
      "shehan C:\\Users\\Asus\\Desktop\\face detection\\src\\images\\shehan\\3.jpeg\n",
      "shehan C:\\Users\\Asus\\Desktop\\face detection\\src\\images\\shehan\\4.jpeg\n",
      "shehan C:\\Users\\Asus\\Desktop\\face detection\\src\\images\\shehan\\5.jpeg\n",
      "shehan C:\\Users\\Asus\\Desktop\\face detection\\src\\images\\shehan\\6.jpeg\n",
      "shehan C:\\Users\\Asus\\Desktop\\face detection\\src\\images\\shehan\\7.jpeg\n",
      "shehan C:\\Users\\Asus\\Desktop\\face detection\\src\\images\\shehan\\8.jpeg\n",
      "shehan C:\\Users\\Asus\\Desktop\\face detection\\src\\images\\shehan\\9.jpeg\n"
     ]
    }
   ],
   "source": [
    "for root, dirs, files in os.walk(image_dir):\n",
    "    for file in files:\n",
    "        if file.endswith(\"jpg\") or file.endswith(\"jpeg\"):\n",
    "            path = os.path.join(root, file)\n",
    "            label = os.path.basename(os.path.dirname(path))\n",
    "            print(label, path)\n",
    "            if not label in label_ids:\n",
    "                label_ids[label] = current_id\n",
    "                current_id += 1\n",
    "            id_ = label_ids[label]\n",
    "            #print(label_ids)\n",
    "            #y_labels.append(label) #some number\n",
    "            #x_train.append(path) #verify this image,turn into a numpy array,gray\n",
    "            pil_image = Image.open(path).convert(\"L\")# grayscale\n",
    "            size = (550, 550)\n",
    "            final_image = pil_image.resize(size, Image.ANTIALIAS)\n",
    "            image_array = np.array(pil_image, \"uint8\")\n",
    "            #print(image_array)\n",
    "            faces = face_cascade.detectMultiScale(image_array, 1.3, 5)\n",
    "            \n",
    "            for (x,y,w,h) in faces:\n",
    "                roi = image_array[y:y+h, x:x+w]\n",
    "                x_train.append(roi)\n",
    "                y_labels.append(id_)\n",
    "#print(y_labels)\n",
    "#print(x_train)"
   ]
  },
  {
   "cell_type": "code",
   "execution_count": 4,
   "metadata": {},
   "outputs": [],
   "source": [
    " with open(\"labels.pickle\", 'wb') as f:\n",
    "        pickle.dump(label_ids, f)"
   ]
  },
  {
   "cell_type": "code",
   "execution_count": 5,
   "metadata": {},
   "outputs": [],
   "source": [
    "recognizer.train(x_train, np.array(y_labels))\n",
    "recognizer.save(\"trainner.yml\")"
   ]
  },
  {
   "cell_type": "code",
   "execution_count": null,
   "metadata": {},
   "outputs": [],
   "source": []
  }
 ],
 "metadata": {
  "kernelspec": {
   "display_name": "Python 3",
   "language": "python",
   "name": "python3"
  },
  "language_info": {
   "codemirror_mode": {
    "name": "ipython",
    "version": 3
   },
   "file_extension": ".py",
   "mimetype": "text/x-python",
   "name": "python",
   "nbconvert_exporter": "python",
   "pygments_lexer": "ipython3",
   "version": "3.7.3"
  }
 },
 "nbformat": 4,
 "nbformat_minor": 2
}
